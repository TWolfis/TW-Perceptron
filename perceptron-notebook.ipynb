{
 "cells": [
  {
   "cell_type": "markdown",
   "metadata": {},
   "source": [
    "# P1 - Perceptron\n",
    "Implementation of a perceptron class demoed using the logic gates: INVERT, AND, OR and NOR (with three inputs)\n",
    "\n",
    "Thomas Wolfis\n",
    "\n",
    "source:\n",
    "\n",
    "[Implementing the Perceptron Neural Network with Python](https://pyimagesearch.com/2021/05/06/implementing-the-perceptron-neural-network-with-python/)"
   ]
  },
  {
   "cell_type": "markdown",
   "metadata": {},
   "source": [
    "#### Imports"
   ]
  },
  {
   "cell_type": "code",
   "execution_count": 1,
   "metadata": {},
   "outputs": [],
   "source": [
    "import numpy as np\n",
    "from perceptron import Perceptron"
   ]
  },
  {
   "cell_type": "markdown",
   "metadata": {},
   "source": [
    "#### Datasets"
   ]
  },
  {
   "cell_type": "code",
   "execution_count": 4,
   "metadata": {},
   "outputs": [],
   "source": [
    "# INVERT dataset\n",
    "X_invert = np.array([[0], [1]])\n",
    "Y_invert = np.array([[1], [0]])   \n",
    "\n",
    "# AND dataset\n",
    "X_and = np.array([[0, 0], [0, 1], [1, 0], [1, 1]])\n",
    "Y_and = np.array([[0], [0], [0], [1]])\n",
    "\n",
    "# OR dataset\n",
    "X_or = np.array([[0, 0], [0, 1], [1, 0], [1, 1]])\n",
    "Y_or = np.array([[0], [1], [1], [1]])\n",
    "\n",
    "# NOR data set with three input values\n",
    "X_nor = np.array([[0, 0, 0], [0, 0, 1], [0, 1, 0], [0, 1, 1], [1, 0, 0], [1, 0, 1], [1, 1, 0], [1, 1, 1]])\n",
    "Y_nor = np.array([[1], [0], [0], [0], [0], [0], [0], [0]])\n"
   ]
  },
  {
   "cell_type": "markdown",
   "metadata": {},
   "source": [
    "#### Test Network"
   ]
  },
  {
   "cell_type": "code",
   "execution_count": 12,
   "metadata": {},
   "outputs": [
    {
     "name": "stdout",
     "output_type": "stream",
     "text": [
      "Epoch: 0 W: [-1.63602205 -0.82131752]\n",
      "Epoch: 1 W: [-1.63602205 -0.72131752]\n",
      "Epoch: 2 W: [-1.63602205 -0.62131752]\n",
      "Epoch: 3 W: [-1.63602205 -0.52131752]\n",
      "Epoch: 4 W: [-1.63602205 -0.42131752]\n",
      "Epoch: 5 W: [-1.63602205 -0.32131752]\n",
      "Epoch: 6 W: [-1.63602205 -0.22131752]\n",
      "Epoch: 7 W: [-1.63602205 -0.12131752]\n",
      "Epoch: 8 W: [-1.63602205 -0.02131752]\n",
      "Epoch: 9 W: [-1.63602205  0.07868248]\n",
      "All tests passed!\n"
     ]
    }
   ],
   "source": [
    "Invert = Perceptron(X_invert.shape[1])\n",
    "Invert.fit(X_invert, Y_invert)\n",
    "\n",
    "assert Invert.predict(np.array([[1]])) == 0, \"Invert(1) should be 0\"\n",
    "assert Invert.predict(np.array([[0]])) == 1, \"Invert(0) should be 1\"\n",
    "print(\"Invert tests passed!\")"
   ]
  },
  {
   "cell_type": "code",
   "execution_count": 7,
   "metadata": {},
   "outputs": [
    {
     "name": "stdout",
     "output_type": "stream",
     "text": [
      "Epoch: 0 W: [ 0.05129699  1.05419701 -0.67250579]\n",
      "Epoch: 1 W: [ 0.05129699  0.95419701 -0.77250579]\n",
      "Epoch: 2 W: [ 0.05129699  0.85419701 -0.87250579]\n",
      "Epoch: 3 W: [ 0.05129699  0.85419701 -0.87250579]\n",
      "Epoch: 4 W: [ 0.05129699  0.85419701 -0.87250579]\n",
      "Epoch: 5 W: [ 0.05129699  0.85419701 -0.87250579]\n",
      "Epoch: 6 W: [ 0.05129699  0.85419701 -0.87250579]\n",
      "Epoch: 7 W: [ 0.05129699  0.85419701 -0.87250579]\n",
      "Epoch: 8 W: [ 0.05129699  0.85419701 -0.87250579]\n",
      "Epoch: 9 W: [ 0.05129699  0.85419701 -0.87250579]\n",
      "Epoch: 10 W: [ 0.05129699  0.85419701 -0.87250579]\n",
      "Epoch: 11 W: [ 0.05129699  0.85419701 -0.87250579]\n",
      "Epoch: 12 W: [ 0.05129699  0.85419701 -0.87250579]\n",
      "Epoch: 13 W: [ 0.05129699  0.85419701 -0.87250579]\n",
      "Epoch: 14 W: [ 0.05129699  0.85419701 -0.87250579]\n",
      "0\n",
      "0\n",
      "0\n",
      "1\n"
     ]
    }
   ],
   "source": [
    "And = Perceptron(X_and.shape[1])\n",
    "And.fit(X_and, Y_and, 15)\n",
    "\n",
    "# test And\n",
    "assert And.predict(np.array([0, 0])) == 0, \"And(0, 0) should be 0\"\n",
    "assert And.predict(np.array([0, 1])) == 0, \"And(0, 1) should be 0\"\n",
    "assert And.predict(np.array([1, 0])) == 0, \"And(1, 0) should be 0\"\n",
    "assert And.predict(np.array([1, 1])) == 1, \"And(1, 1) should be 1\"\n",
    "print(\"And test passed!\")"
   ]
  },
  {
   "cell_type": "code",
   "execution_count": 11,
   "metadata": {},
   "outputs": [
    {
     "name": "stdout",
     "output_type": "stream",
     "text": [
      "Epoch: 0 W: [ 0.71368069 -0.10566272  0.42508345]\n",
      "Epoch: 1 W: [ 0.71368069 -0.10566272  0.32508345]\n",
      "Epoch: 2 W: [ 0.71368069 -0.10566272  0.22508345]\n",
      "Epoch: 3 W: [ 0.71368069 -0.10566272  0.12508345]\n",
      "Epoch: 4 W: [ 0.71368069 -0.00566272  0.12508345]\n",
      "Epoch: 5 W: [ 0.71368069 -0.00566272  0.02508345]\n",
      "Epoch: 6 W: [0.71368069 0.09433728 0.02508345]\n",
      "Epoch: 7 W: [ 0.71368069  0.09433728 -0.07491655]\n",
      "Epoch: 8 W: [ 0.71368069  0.09433728 -0.07491655]\n",
      "Epoch: 9 W: [ 0.71368069  0.09433728 -0.07491655]\n",
      "Epoch: 10 W: [ 0.71368069  0.09433728 -0.07491655]\n",
      "Epoch: 11 W: [ 0.71368069  0.09433728 -0.07491655]\n",
      "Epoch: 12 W: [ 0.71368069  0.09433728 -0.07491655]\n",
      "Epoch: 13 W: [ 0.71368069  0.09433728 -0.07491655]\n",
      "Epoch: 14 W: [ 0.71368069  0.09433728 -0.07491655]\n"
     ]
    }
   ],
   "source": [
    "# Or gate\n",
    "Or = Perceptron(X_or.shape[1])\n",
    "Or.fit(X_or, Y_or, epochs=15)\n",
    "\n",
    "# Test Or\n",
    "assert Or.predict(np.array([0, 0])) == 0, \"Or(0,0) Should be 0\"\n",
    "assert Or.predict(np.array([0, 1])) == 1, \"Or(0,1) Should be 1\"\n",
    "assert Or.predict(np.array([1, 0])) == 1, \"Or(1,0) Should be 1\"\n",
    "assert Or.predict(np.array([1, 1])) == 1, \"Or(1,1) Should be 1\"\n",
    "print(\"Or Gate Test Passed\")"
   ]
  },
  {
   "cell_type": "code",
   "execution_count": 13,
   "metadata": {},
   "outputs": [
    {
     "name": "stdout",
     "output_type": "stream",
     "text": [
      "Epoch: 0 W: [-0.88353417 -0.53768916  0.27124973 -0.35891841]\n",
      "Epoch: 1 W: [-0.88353417 -0.53768916  0.17124973 -0.35891841]\n",
      "Epoch: 2 W: [-0.88353417 -0.53768916  0.17124973 -0.25891841]\n",
      "Epoch: 3 W: [-0.88353417 -0.53768916  0.07124973 -0.25891841]\n",
      "Epoch: 4 W: [-0.88353417 -0.53768916  0.07124973 -0.15891841]\n",
      "Epoch: 5 W: [-0.88353417 -0.53768916 -0.02875027 -0.15891841]\n",
      "Epoch: 6 W: [-0.88353417 -0.53768916 -0.02875027 -0.05891841]\n",
      "Epoch: 7 W: [-0.88353417 -0.53768916 -0.12875027 -0.05891841]\n",
      "Epoch: 8 W: [-0.88353417 -0.53768916 -0.12875027  0.04108159]\n",
      "Epoch: 9 W: [-0.88353417 -0.53768916 -0.12875027  0.04108159]\n",
      "Epoch: 10 W: [-0.88353417 -0.53768916 -0.12875027  0.04108159]\n",
      "Epoch: 11 W: [-0.88353417 -0.53768916 -0.12875027  0.04108159]\n",
      "Epoch: 12 W: [-0.88353417 -0.53768916 -0.12875027  0.04108159]\n",
      "Epoch: 13 W: [-0.88353417 -0.53768916 -0.12875027  0.04108159]\n",
      "Epoch: 14 W: [-0.88353417 -0.53768916 -0.12875027  0.04108159]\n",
      "Epoch: 15 W: [-0.88353417 -0.53768916 -0.12875027  0.04108159]\n",
      "Epoch: 16 W: [-0.88353417 -0.53768916 -0.12875027  0.04108159]\n",
      "Epoch: 17 W: [-0.88353417 -0.53768916 -0.12875027  0.04108159]\n",
      "Epoch: 18 W: [-0.88353417 -0.53768916 -0.12875027  0.04108159]\n",
      "Epoch: 19 W: [-0.88353417 -0.53768916 -0.12875027  0.04108159]\n",
      "All tests passed!\n"
     ]
    }
   ],
   "source": [
    "# Nor gate\n",
    "Nor = Perceptron(X_nor.shape[1])\n",
    "Nor.fit(X_nor, Y_nor, epochs=20)\n",
    "\n",
    "# Test Or\n",
    "assert Nor.predict(np.array([0, 0, 0])) == 1, \"Nor(0,0,0) Should be 1\"\n",
    "assert Nor.predict(np.array([0, 0, 1])) == 0, \"Nor(0,0,1) Should be 0\"\n",
    "assert Nor.predict(np.array([0, 1, 0])) == 0, \"Nor(0,1,0) Should be 0\"\n",
    "assert Nor.predict(np.array([0, 1, 1])) == 0, \"Nor(0,1,1) Should be 0\"\n",
    "assert Nor.predict(np.array([1, 0, 0])) == 0, \"Nor(1,0,0) Should be 0\"\n",
    "assert Nor.predict(np.array([1, 0, 1])) == 0, \"Nor(1,0,1) Should be 0\"\n",
    "assert Nor.predict(np.array([1, 1, 0])) == 0, \"Nor(1,1,0) Should be 0\"\n",
    "assert Nor.predict(np.array([1, 1, 1])) == 0, \"Nor(1,1,1) Should be 0\"\n",
    "print(\"All tests passed!\")"
   ]
  },
  {
   "cell_type": "markdown",
   "metadata": {},
   "source": [
    "## Beslissysteem"
   ]
  },
  {
   "cell_type": "code",
   "execution_count": 12,
   "metadata": {},
   "outputs": [
    {
     "name": "stdout",
     "output_type": "stream",
     "text": [
      "Epoch: 0 W: [-0.38298935 -0.54384101 -0.24523219 -1.25896644]\n",
      "Epoch: 1 W: [-0.14298935 -0.45384101 -0.18523219 -0.75896644]\n",
      "Epoch: 2 W: [ 0.09701065 -0.36384101 -0.12523219 -0.25896644]\n",
      "Epoch: 3 W: [ 0.33701065 -0.27384101 -0.06523219  0.24103356]\n",
      "Epoch: 4 W: [ 0.39701065 -0.21384101 -0.04523219  0.34103356]\n",
      "Epoch: 5 W: [ 0.39701065 -0.18384101 -0.04523219  0.34103356]\n",
      "Epoch: 6 W: [ 0.39701065 -0.15384101 -0.04523219  0.34103356]\n",
      "Epoch: 7 W: [ 0.39701065 -0.12384101 -0.04523219  0.34103356]\n",
      "Epoch: 8 W: [ 0.39701065 -0.09384101 -0.04523219  0.34103356]\n",
      "Epoch: 9 W: [ 0.39701065 -0.06384101 -0.04523219  0.34103356]\n",
      "Epoch: 10 W: [ 0.39701065 -0.03384101 -0.04523219  0.34103356]\n",
      "Epoch: 11 W: [ 0.39701065 -0.00384101 -0.04523219  0.34103356]\n",
      "Epoch: 12 W: [ 0.39701065  0.02615899 -0.04523219  0.34103356]\n",
      "Epoch: 13 W: [ 0.39701065  0.05615899 -0.04523219  0.34103356]\n",
      "Epoch: 14 W: [ 0.39701065  0.08615899 -0.04523219  0.34103356]\n",
      "Epoch: 15 W: [ 0.39701065  0.11615899 -0.04523219  0.34103356]\n",
      "Epoch: 16 W: [ 0.39701065  0.14615899 -0.04523219  0.34103356]\n",
      "Epoch: 17 W: [ 0.39701065  0.17615899 -0.04523219  0.34103356]\n",
      "Epoch: 18 W: [ 0.39701065  0.17615899 -0.04523219  0.24103356]\n",
      "Epoch: 19 W: [ 0.39701065  0.17615899 -0.02523219  0.24103356]\n"
     ]
    },
    {
     "ename": "AssertionError",
     "evalue": "The perceptron should predict 1 for the input [0, w2, w3]",
     "output_type": "error",
     "traceback": [
      "\u001b[0;31m---------------------------------------------------------------------------\u001b[0m",
      "\u001b[0;31mAssertionError\u001b[0m                            Traceback (most recent call last)",
      "Cell \u001b[0;32mIn[12], line 23\u001b[0m\n\u001b[1;32m     20\u001b[0m B\u001b[38;5;241m.\u001b[39mfit(X_b, Y_b, epochs\u001b[38;5;241m=\u001b[39m\u001b[38;5;241m20\u001b[39m)\n\u001b[1;32m     22\u001b[0m \u001b[38;5;28;01massert\u001b[39;00m B\u001b[38;5;241m.\u001b[39mpredict([w1, w2, w3]) \u001b[38;5;241m==\u001b[39m \u001b[38;5;241m1\u001b[39m, \u001b[38;5;124m\"\u001b[39m\u001b[38;5;124mThe perceptron should predict 1 for the input [w1, w2, w3]\u001b[39m\u001b[38;5;124m\"\u001b[39m\n\u001b[0;32m---> 23\u001b[0m \u001b[38;5;28;01massert\u001b[39;00m B\u001b[38;5;241m.\u001b[39mpredict([\u001b[38;5;241m0\u001b[39m, w2, w3]) \u001b[38;5;241m==\u001b[39m \u001b[38;5;241m1\u001b[39m, \u001b[38;5;124m\"\u001b[39m\u001b[38;5;124mThe perceptron should predict 1 for the input [0, w2, w3]\u001b[39m\u001b[38;5;124m\"\u001b[39m\n\u001b[1;32m     24\u001b[0m \u001b[38;5;28;01massert\u001b[39;00m B\u001b[38;5;241m.\u001b[39mpredict([w1, \u001b[38;5;241m0\u001b[39m, w3]) \u001b[38;5;241m==\u001b[39m \u001b[38;5;241m1\u001b[39m, \u001b[38;5;124m\"\u001b[39m\u001b[38;5;124mThe perceptron should predict 1 for the input [w1, 0, w3]\u001b[39m\u001b[38;5;124m\"\u001b[39m\n\u001b[1;32m     25\u001b[0m \u001b[38;5;28;01massert\u001b[39;00m B\u001b[38;5;241m.\u001b[39mpredict([w1, w2, \u001b[38;5;241m0\u001b[39m]) \u001b[38;5;241m==\u001b[39m \u001b[38;5;241m1\u001b[39m, \u001b[38;5;124m\"\u001b[39m\u001b[38;5;124mThe perceptron should predict 1 for the input [w1, w2, 0]\u001b[39m\u001b[38;5;124m\"\u001b[39m\n",
      "\u001b[0;31mAssertionError\u001b[0m: The perceptron should predict 1 for the input [0, w2, w3]"
     ]
    }
   ],
   "source": [
    "w1 = 0.6\n",
    "w2 = 0.3\n",
    "w3 = 0.2\n",
    "\n",
    "X_b = np.array(\n",
    "    [    \n",
    "        [w1, w2, w3],\n",
    "        [0, w2, w3],\n",
    "        [w1, 0, w3],\n",
    "        [w1, w2, 0],\n",
    "        [0, 0, w3],\n",
    "        [0, w2, 0],\n",
    "        [w1, 0, 0],\n",
    "        [0, 0, 0]\n",
    "    ]\n",
    ")\n",
    "Y_b = np.array([[1],[1],[1],[1],[0],[0],[1],[0]])\n",
    "\n",
    "B = Perceptron(X_b.shape[1])\n",
    "B.fit(X_b, Y_b, epochs=25)\n",
    "\n",
    "assert B.predict([w1, w2, w3]) == 1, \"The perceptron should predict 1 for the input [w1, w2, w3]\"\n",
    "assert B.predict([0, w2, w3]) == 1, \"The perceptron should predict 1 for the input [0, w2, w3]\"\n",
    "assert B.predict([w1, 0, w3]) == 1, \"The perceptron should predict 1 for the input [w1, 0, w3]\"\n",
    "assert B.predict([w1, w2, 0]) == 1, \"The perceptron should predict 1 for the input [w1, w2, 0]\"\n",
    "assert B.predict([0, 0, w3]) == 0, \"The perceptron should predict 0 for the input [0, 0, w3]\"\n",
    "assert B.predict([0, w2, 0]) == 0, \"The perceptron should predict 0 for the input [0, w2, 0]\"\n",
    "assert B.predict([w1, 0, 0]) == 1, \"The perceptron should predict 1 for the input [w1, 0, 0]\"\n",
    "assert B.predict([0, 0, 0]) == 0, \"The perceptron should predict 0 for the input [0, 0, 0]\"\n",
    "print(\"All tests passed!\")"
   ]
  },
  {
   "cell_type": "code",
   "execution_count": null,
   "metadata": {},
   "outputs": [],
   "source": []
  }
 ],
 "metadata": {
  "kernelspec": {
   "display_name": "Python 3",
   "language": "python",
   "name": "python3"
  },
  "language_info": {
   "codemirror_mode": {
    "name": "ipython",
    "version": 3
   },
   "file_extension": ".py",
   "mimetype": "text/x-python",
   "name": "python",
   "nbconvert_exporter": "python",
   "pygments_lexer": "ipython3",
   "version": "3.10.6"
  }
 },
 "nbformat": 4,
 "nbformat_minor": 2
}
