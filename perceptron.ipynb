{
 "cells": [
  {
   "cell_type": "markdown",
   "metadata": {},
   "source": [
    "# P1 - Perceptron\n",
    "Implementation of a perceptron class demoed using the logic gates: INVERT, AND, OR and NOR (with three inputs)\n",
    "\n",
    "Thomas Wolfis\n",
    "\n",
    "source:\n",
    "\n",
    "[Implementing the Perceptron Neural Network with Python](https://pyimagesearch.com/2021/05/06/implementing-the-perceptron-neural-network-with-python/)"
   ]
  },
  {
   "cell_type": "markdown",
   "metadata": {},
   "source": [
    "#### Imports"
   ]
  },
  {
   "cell_type": "code",
   "execution_count": 2,
   "metadata": {},
   "outputs": [],
   "source": [
    "import numpy as np"
   ]
  },
  {
   "cell_type": "markdown",
   "metadata": {},
   "source": [
    "#### Datasets"
   ]
  },
  {
   "cell_type": "code",
   "execution_count": 3,
   "metadata": {},
   "outputs": [],
   "source": [
    "# INVERT dataset\n",
    "X_invert = np.array([[0], [1]])\n",
    "Y_invert = np.array([[1], [0]])   \n",
    "\n",
    "# AND dataset\n",
    "X_and = np.array([[0, 0], [0, 1], [1, 0], [1, 1]])\n",
    "Y_and = np.array([[0], [0], [0], [1]])\n",
    "\n",
    "# OR dataset\n",
    "X_or = np.array([[0, 0], [0, 1], [1, 0], [1, 1]])\n",
    "Y_or = np.array([[0], [1], [1], [1]])\n",
    "\n",
    "# NOR data set with three input values\n",
    "X_nor = np.array([[0, 0, 0], [0, 0, 1], [0, 1, 0], [0, 1, 1], [1, 0, 0], [1, 0, 1], [1, 1, 0], [1, 1, 1]])\n",
    "Y_nor = np.array([[1], [0], [0], [0], [0], [0], [0], [0]])\n"
   ]
  },
  {
   "cell_type": "markdown",
   "metadata": {},
   "source": [
    "#### Perceptron Class"
   ]
  },
  {
   "cell_type": "code",
   "execution_count": 4,
   "metadata": {},
   "outputs": [],
   "source": [
    "class Perceptron:\n",
    "\n",
    "    # init takes input size and learning rate as arguments\n",
    "    def __init__(self, N, alpha=0.1):\n",
    "        # initialize the weights randomly\n",
    "        self.W = np.random.randn(N + 1) / np.sqrt(N)\n",
    "        self.alpha = alpha\n",
    "    \n",
    "    def _step(self, x):\n",
    "        return 1 if x > 0 else 0\n",
    "    \n",
    "    def fit(self, X, Y, epochs=10):\n",
    "        \"\"\"\n",
    "        Fit the inputs X to the output Y and train the weights over the specified epochs\n",
    "        \"\"\"\n",
    "\n",
    "        # insert a column of 1's as the last entry in the feature\n",
    "        # Treat the bias as a trainable parameter within the weight matrix\n",
    "        X = np.c_[X, np.ones((X.shape[0]))]\n",
    "\n",
    "        # loop over the desired number of epochs\n",
    "        for epoch in np.arange(0, epochs):\n",
    "            print(f\"Epoch: {epoch} W: {self.W}\")\n",
    "            # loop over each individual data point\n",
    "            for (x, target) in zip(X, Y):\n",
    "\n",
    "                # make a prediction based on the current weights\n",
    "                p = self._step(np.dot(x, self.W))\n",
    "\n",
    "                # only perform a weight update if our prediction does not match the target\n",
    "                if p != target:\n",
    "                    # determine the error\n",
    "                    error = p - target\n",
    "\n",
    "                    # update the weights\n",
    "                    self.W += -self.alpha * error * x\n",
    "\n",
    "    def predict(self, X, addBias=True):\n",
    "        X = np.atleast_2d(X)\n",
    "\n",
    "        if addBias:\n",
    "            X = np.c_[X, np.ones((X.shape[0]))]\n",
    "        \n",
    "        # take the dot product between the input features and the weights\n",
    "        return self._step(np.dot(X, self.W))\n",
    "    \n",
    "    "
   ]
  },
  {
   "cell_type": "markdown",
   "metadata": {},
   "source": [
    "#### Test Network"
   ]
  },
  {
   "cell_type": "code",
   "execution_count": 5,
   "metadata": {},
   "outputs": [
    {
     "name": "stdout",
     "output_type": "stream",
     "text": [
      "Epoch: 0 W: [0.57933056 0.39665103]\n",
      "Epoch: 1 W: [0.47933056 0.29665103]\n",
      "Epoch: 2 W: [0.37933056 0.19665103]\n",
      "Epoch: 3 W: [0.27933056 0.09665103]\n",
      "Epoch: 4 W: [ 0.17933056 -0.00334897]\n",
      "Epoch: 5 W: [ 0.07933056 -0.00334897]\n",
      "Epoch: 6 W: [-0.02066944 -0.00334897]\n",
      "Epoch: 7 W: [-0.12066944 -0.00334897]\n",
      "Epoch: 8 W: [-0.12066944  0.09665103]\n",
      "Epoch: 9 W: [-0.12066944  0.09665103]\n",
      "1\n",
      "0\n"
     ]
    }
   ],
   "source": [
    "invert = Perceptron(X_invert.shape[1])\n",
    "invert.fit(X_invert, Y_invert)\n",
    "\n",
    "print(invert.predict(np.array([[0]])))\n",
    "print(invert.predict(np.array([[1]])))\n"
   ]
  },
  {
   "cell_type": "code",
   "execution_count": 10,
   "metadata": {},
   "outputs": [
    {
     "name": "stdout",
     "output_type": "stream",
     "text": [
      "Epoch: 0 W: [-0.57097838  1.0610969  -0.4993991 ]\n",
      "Epoch: 1 W: [-0.47097838  1.0610969  -0.4993991 ]\n",
      "Epoch: 2 W: [-0.37097838  1.0610969  -0.4993991 ]\n",
      "Epoch: 3 W: [-0.27097838  1.0610969  -0.4993991 ]\n",
      "Epoch: 4 W: [-0.27097838  0.9610969  -0.5993991 ]\n",
      "Epoch: 5 W: [-0.17097838  0.9610969  -0.5993991 ]\n",
      "Epoch: 6 W: [-0.07097838  0.9610969  -0.5993991 ]\n",
      "Epoch: 7 W: [-0.07097838  0.8610969  -0.6993991 ]\n",
      "Epoch: 8 W: [ 0.02902162  0.8610969  -0.6993991 ]\n",
      "Epoch: 9 W: [ 0.12902162  0.8610969  -0.6993991 ]\n",
      "Epoch: 10 W: [ 0.12902162  0.7610969  -0.7993991 ]\n",
      "Epoch: 11 W: [ 0.12902162  0.7610969  -0.7993991 ]\n",
      "Epoch: 12 W: [ 0.12902162  0.7610969  -0.7993991 ]\n",
      "Epoch: 13 W: [ 0.12902162  0.7610969  -0.7993991 ]\n",
      "Epoch: 14 W: [ 0.12902162  0.7610969  -0.7993991 ]\n",
      "0\n",
      "0\n",
      "0\n",
      "1\n"
     ]
    }
   ],
   "source": [
    "import numpy as np\n",
    "And = Perceptron(X_and.shape[1])\n",
    "And.fit(X_and, Y_and, 15)\n",
    "\n",
    "# test And\n",
    "print(And.predict(np.array([0, 0])))\n",
    "print(And.predict(np.array([0, 1])))\n",
    "print(And.predict(np.array([1, 0])))\n",
    "print(And.predict(np.array([1, 1])))"
   ]
  },
  {
   "cell_type": "code",
   "execution_count": 11,
   "metadata": {},
   "outputs": [
    {
     "name": "stdout",
     "output_type": "stream",
     "text": [
      "Epoch: 0 W: [ 0.85176829  0.14738574 -0.2660721 ]\n",
      "Epoch: 1 W: [ 0.85176829  0.24738574 -0.1660721 ]\n",
      "Epoch: 2 W: [ 0.85176829  0.24738574 -0.1660721 ]\n",
      "Epoch: 3 W: [ 0.85176829  0.24738574 -0.1660721 ]\n",
      "Epoch: 4 W: [ 0.85176829  0.24738574 -0.1660721 ]\n",
      "Epoch: 5 W: [ 0.85176829  0.24738574 -0.1660721 ]\n",
      "Epoch: 6 W: [ 0.85176829  0.24738574 -0.1660721 ]\n",
      "Epoch: 7 W: [ 0.85176829  0.24738574 -0.1660721 ]\n",
      "Epoch: 8 W: [ 0.85176829  0.24738574 -0.1660721 ]\n",
      "Epoch: 9 W: [ 0.85176829  0.24738574 -0.1660721 ]\n",
      "Epoch: 10 W: [ 0.85176829  0.24738574 -0.1660721 ]\n",
      "Epoch: 11 W: [ 0.85176829  0.24738574 -0.1660721 ]\n",
      "Epoch: 12 W: [ 0.85176829  0.24738574 -0.1660721 ]\n",
      "Epoch: 13 W: [ 0.85176829  0.24738574 -0.1660721 ]\n",
      "Epoch: 14 W: [ 0.85176829  0.24738574 -0.1660721 ]\n",
      "0\n",
      "1\n",
      "1\n",
      "1\n"
     ]
    }
   ],
   "source": [
    "# Or gate\n",
    "Or = Perceptron(X_or.shape[1])\n",
    "Or.fit(X_or, Y_or, epochs=15)\n",
    "\n",
    "# Test Or\n",
    "print(Or.predict(np.array([0, 0])))\n",
    "print(Or.predict(np.array([0, 1])))\n",
    "print(Or.predict(np.array([1, 0])))\n",
    "print(Or.predict(np.array([1, 1])))"
   ]
  },
  {
   "cell_type": "code",
   "execution_count": 14,
   "metadata": {},
   "outputs": [
    {
     "name": "stdout",
     "output_type": "stream",
     "text": [
      "Epoch: 0 W: [ 0.69066254  0.385422   -0.14721629 -0.93497016]\n",
      "Epoch: 1 W: [ 0.59066254  0.285422   -0.14721629 -0.93497016]\n",
      "Epoch: 2 W: [ 0.49066254  0.185422   -0.14721629 -0.93497016]\n",
      "Epoch: 3 W: [ 0.49066254  0.185422   -0.14721629 -0.83497016]\n",
      "Epoch: 4 W: [ 0.49066254  0.185422   -0.14721629 -0.73497016]\n",
      "Epoch: 5 W: [ 0.39066254  0.085422   -0.14721629 -0.73497016]\n",
      "Epoch: 6 W: [ 0.39066254  0.085422   -0.14721629 -0.63497016]\n",
      "Epoch: 7 W: [ 0.39066254  0.085422   -0.14721629 -0.53497016]\n",
      "Epoch: 8 W: [ 0.29066254 -0.014578   -0.14721629 -0.53497016]\n",
      "Epoch: 9 W: [ 0.29066254 -0.014578   -0.14721629 -0.43497016]\n",
      "Epoch: 10 W: [ 0.29066254 -0.014578   -0.14721629 -0.33497016]\n",
      "Epoch: 11 W: [ 0.19066254 -0.014578   -0.14721629 -0.33497016]\n",
      "Epoch: 12 W: [ 0.19066254 -0.014578   -0.14721629 -0.23497016]\n",
      "Epoch: 13 W: [ 0.09066254 -0.014578   -0.14721629 -0.23497016]\n",
      "Epoch: 14 W: [ 0.09066254 -0.014578   -0.14721629 -0.13497016]\n",
      "Epoch: 15 W: [-0.00933746 -0.014578   -0.14721629 -0.13497016]\n",
      "Epoch: 16 W: [-0.00933746 -0.014578   -0.14721629 -0.03497016]\n",
      "Epoch: 17 W: [-0.00933746 -0.114578   -0.14721629 -0.03497016]\n",
      "Epoch: 18 W: [-0.10933746 -0.114578   -0.14721629 -0.03497016]\n",
      "Epoch: 19 W: [-0.10933746 -0.114578   -0.14721629  0.06502984]\n",
      "1\n",
      "0\n",
      "0\n",
      "0\n",
      "0\n",
      "0\n",
      "0\n",
      "0\n"
     ]
    }
   ],
   "source": [
    "# Nor gate\n",
    "Nor = Perceptron(X_nor.shape[1])\n",
    "Nor.fit(X_nor, Y_nor, epochs=20)\n",
    "\n",
    "# Test Or\n",
    "print(Nor.predict(np.array([0, 0, 0])))\n",
    "print(Nor.predict(np.array([0, 0, 1])))\n",
    "print(Nor.predict(np.array([0, 1, 0])))\n",
    "print(Nor.predict(np.array([0, 1, 1])))\n",
    "print(Nor.predict(np.array([1, 0, 0])))\n",
    "print(Nor.predict(np.array([1, 0, 1])))\n",
    "print(Nor.predict(np.array([1, 1, 0])))\n",
    "print(Nor.predict(np.array([1, 1, 1])))\n"
   ]
  },
  {
   "cell_type": "code",
   "execution_count": null,
   "metadata": {},
   "outputs": [],
   "source": []
  }
 ],
 "metadata": {
  "kernelspec": {
   "display_name": "Python 3",
   "language": "python",
   "name": "python3"
  },
  "language_info": {
   "codemirror_mode": {
    "name": "ipython",
    "version": 3
   },
   "file_extension": ".py",
   "mimetype": "text/x-python",
   "name": "python",
   "nbconvert_exporter": "python",
   "pygments_lexer": "ipython3",
   "version": "3.11.7"
  }
 },
 "nbformat": 4,
 "nbformat_minor": 2
}
